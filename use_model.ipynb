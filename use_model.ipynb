{
 "cells": [
  {
   "cell_type": "code",
   "execution_count": 1,
   "metadata": {},
   "outputs": [],
   "source": [
    "import os\n",
    "import cv2\n",
    "import numpy as np\n",
    "import tensorflow as tf"
   ]
  },
  {
   "cell_type": "markdown",
   "metadata": {},
   "source": [
    "# завантаження моделі"
   ]
  },
  {
   "cell_type": "code",
   "execution_count": 4,
   "metadata": {},
   "outputs": [
    {
     "name": "stderr",
     "output_type": "stream",
     "text": [
      "WARNING:absl:No training configuration found in the save file, so the model was *not* compiled. Compile it manually.\n"
     ]
    }
   ],
   "source": [
    "generator = tf.keras.models.load_model('./demo_generator_model200.h5')"
   ]
  },
  {
   "cell_type": "markdown",
   "metadata": {},
   "source": [
    "# функція для отримання списку шляхів в папкі з фото"
   ]
  },
  {
   "cell_type": "code",
   "execution_count": null,
   "metadata": {},
   "outputs": [],
   "source": [
    "def load_list_of_data(image_dir):\n",
    "    dataset = []\n",
    "    \n",
    "    for filename in os.listdir(image_dir):\n",
    "        if filename.endswith('.jpg'):\n",
    "            img_path = os.path.join(image_dir, filename)\n",
    "            dataset.append(img_path)\n",
    "\n",
    "    return dataset"
   ]
  },
  {
   "cell_type": "markdown",
   "metadata": {},
   "source": [
    "# перебір всіх зображень з папки і зберігання в папку result 3 варіанти фото. \n",
    "  - оригінал\n",
    "  - збільшене в чотири рази фото\n",
    "  - збільшене в чотири рази фото, яке було оброблено моделлю"
   ]
  },
  {
   "cell_type": "code",
   "execution_count": null,
   "metadata": {},
   "outputs": [],
   "source": [
    "dataset = load_list_of_data('./my_dataset')\n",
    "\n",
    "for idx, img_path in enumerate(dataset):\n",
    "    img = cv2.imread(img_path)\n",
    "    img = cv2.cvtColor(img, cv2.COLOR_BGR2RGB)\n",
    "    \n",
    "    img = img.astype(np.float32)\n",
    "    img = img / 255\n",
    "    cv2.imwrite(f'./result/{idx}1orig.jpg', cv2.cvtColor((img * 255).astype(np.uint8), cv2.COLOR_BGR2RGB))\n",
    "    h, w, ch = img.shape\n",
    "    img = cv2.resize(img, (w*2, h*2))\n",
    "    cv2.imwrite(f'./result/{idx}2big.jpg', cv2.cvtColor((img * 255).astype(np.uint8), cv2.COLOR_BGR2RGB))\n",
    "    pred_img = generator.predict(np.expand_dims(img, axis=0))\n",
    "    pred_img = pred_img[0]\n",
    "    cv2.imwrite(f'./result/{idx}3pred.jpg', cv2.cvtColor((pred_img * 255).astype(np.uint8), cv2.COLOR_BGR2RGB))"
   ]
  }
 ],
 "metadata": {
  "kernelspec": {
   "display_name": "tensor_env",
   "language": "python",
   "name": "python3"
  },
  "language_info": {
   "codemirror_mode": {
    "name": "ipython",
    "version": 3
   },
   "file_extension": ".py",
   "mimetype": "text/x-python",
   "name": "python",
   "nbconvert_exporter": "python",
   "pygments_lexer": "ipython3",
   "version": "3.10.15"
  }
 },
 "nbformat": 4,
 "nbformat_minor": 2
}
